{
 "cells": [
  {
   "cell_type": "markdown",
   "metadata": {},
   "source": [
    "# Testing the model\n",
    "We will be using the five images that Flickr27 has set aside for validation. For training and validating the model, we had images in seperate class folder. For testing the model, all the test images have been moved into one single folder. \n",
    "\n",
    "I have also added the names of the classes to each of the images so that we can compare the files names with the prediction. To validate the results, we would not have to open the image files manually. Also, there is no code that uses the name of the file as a variable for prediction"
   ]
  },
  {
   "cell_type": "code",
   "execution_count": 1,
   "metadata": {},
   "outputs": [
    {
     "name": "stderr",
     "output_type": "stream",
     "text": [
      "C:\\ProgramData\\Anaconda3\\lib\\site-packages\\h5py\\__init__.py:36: FutureWarning: Conversion of the second argument of issubdtype from `float` to `np.floating` is deprecated. In future, it will be treated as `np.float64 == np.dtype(float).type`.\n",
      "  from ._conv import register_converters as _register_converters\n",
      "Using TensorFlow backend.\n"
     ]
    }
   ],
   "source": [
    "import numpy as np\n",
    "import cv2 as cv\n",
    "import os\n",
    "import time\n",
    "import pandas as pd\n",
    "\n",
    "import skimage.io\n",
    "import skimage.transform\n",
    "\n",
    "from keras.models import model_from_json\n",
    "from keras.models import load_model\n",
    "from keras import optimizers\n",
    "from keras.preprocessing.image import img_to_array\n",
    "from keras.callbacks import ModelCheckpoint\n",
    "\n",
    "import imutils"
   ]
  },
  {
   "cell_type": "code",
   "execution_count": 1,
   "metadata": {},
   "outputs": [],
   "source": [
    "#Moved the model and weights file into a structure.\n",
    "modelFileName = 'Execution History//20180814//NewIV3-150x150x1-3C.h5'\n",
    "weightFileName = 'Execution History//20180814//NewIV3-150x150x1-3C-Run1.hdf5'\n",
    "\n",
    "#This is the folder in which the test images are present\n",
    "testImageFolder = 'Flickr27//TestImages'\n",
    "\n",
    "#These are the classes I am testing for. The assumption is that one of these logos will exist in the image.\n",
    "class_names = ['Apple', 'Fedex', 'Google'];\n",
    "\n",
    "#A simple counter system to see how many files were present and how many were predicted correctly.\n",
    "acn0 = 0;\n",
    "acn1 = 0;\n",
    "acn2 = 0;\n",
    "acn3 = 0;\n",
    "acn4 = 0;\n",
    "tcn0 = 0;\n",
    "tcn1 = 0;\n",
    "tcn2 = 0;\n",
    "tcn3 = 0;\n",
    "tcn4 = 0;"
   ]
  },
  {
   "cell_type": "code",
   "execution_count": 2,
   "metadata": {},
   "outputs": [],
   "source": [
    "def loadModel(modelFileName, weightFileName):\n",
    "    #Load the model from the H5 file.\n",
    "    model = load_model(modelFileName)\n",
    "    \n",
    "    #Load the weights from the HDF5 file.\n",
    "    model.load_weights(weightFileName)\n",
    "    print(\"Loaded model from disk\")\n",
    "    \n",
    "    return model\n",
    "\n",
    "def predictGrey (image,tcn0,acn0,tcn1,acn1,tcn2,acn2,tcn3,acn3,tcn4,acn4):\n",
    "\n",
    "    #Image has been found, increase the class counter by 1.\n",
    "    if class_names[0] in image:\n",
    "        acn0+=1;\n",
    "    elif class_names[1] in image:\n",
    "        acn1+=1;\n",
    "    elif class_names[2] in image:\n",
    "        acn2+=1;\n",
    "        \n",
    "    #Reading the image            \n",
    "    size = 150\n",
    "    img = cv.imread(image)\n",
    "    \n",
    "    #Converting the image to Grey-scale\n",
    "    newimage = cv.cvtColor(img,cv.cv2.COLOR_BGR2GRAY)\n",
    "    \n",
    "    #Resize the image to a square\n",
    "    old_size = newimage.shape  # old_size[0] is in (width, height) format\n",
    "    ratio = float(size) / max(old_size)\n",
    "    new_size = tuple([int(x*ratio) for x in old_size])\n",
    "    newimage = imutils.resize(newimage, width = new_size[1])\n",
    "\n",
    "    #Create a new image and paste the resized on it\n",
    "    totw = size - new_size[1]\n",
    "    toth = size - new_size[0]\n",
    "    delta_w = (size - new_size[1])//2\n",
    "    delta_h = (size - new_size[0])//2\n",
    "    padding = [delta_h, toth - delta_h, delta_w,totw - delta_w]\n",
    "    \n",
    "    #Creating the new image file and saving it.\n",
    "    newimage = cv.copyMakeBorder(newimage,padding[0],padding[1],padding[2],padding[3],cv.BORDER_CONSTANT,value=0)\n",
    "    greyname = 'grey' + filename\n",
    "    cv.imwrite(greyname, newimage)\n",
    "\n",
    "    #Read this new image for prediction.\n",
    "    image_data = skimage.io.imread(greyname)\n",
    "    new_image_data = skimage.transform.resize(image_data,(150,150,1))\n",
    "    new_image_data = new_image_data.reshape((1, 150, 150, 1)).astype(np.float32) / 255.0\n",
    "    (cn0, cn1, cn2) = model.predict(new_image_data)[0]\n",
    "\n",
    "    #Outcome of the prediction is checked and the counters are modified accordingly.\n",
    "    if cn0 > cn1 and cn0 > cn2 and class_names[0] in image: #and cn0 > cn3 and cn0 > cn4:\n",
    "        tcn0+=1;\n",
    "    elif cn1 > cn0 and cn1 > cn2 and class_names[1] in image: #and cn1 > cn3 and cn1 > cn4:\n",
    "        tcn1+=1;\n",
    "    elif cn2 > cn0 and cn2 > cn1 and class_names[2] in image: #and cn2 > cn3 and cn2 > cn4:\n",
    "        tcn2+=1;\n",
    "        \n",
    "    \n",
    "    #Printing the prediction value along with the file name\n",
    "    print ('\\nImage file name: ' + image)\n",
    "    print (class_names[0] + ': ' + str(cn0))\n",
    "    print (class_names[1] + ': ' + str(cn1))\n",
    "    print (class_names[2] + ': ' + str(cn2))\n",
    "\n",
    "    #Delete the created file.\n",
    "    os.remove(greyname)\n",
    "        \n",
    "    return tcn0,acn0,tcn1,acn1,tcn2,acn2,tcn3,acn3,tcn4,acn4;"
   ]
  },
  {
   "cell_type": "code",
   "execution_count": 9,
   "metadata": {},
   "outputs": [
    {
     "name": "stderr",
     "output_type": "stream",
     "text": [
      "C:\\ProgramData\\Anaconda3\\lib\\site-packages\\keras\\models.py:282: UserWarning: No training configuration found in save file: the model was *not* compiled. Compile it manually.\n",
      "  warnings.warn('No training configuration found in save file: '\n"
     ]
    },
    {
     "name": "stdout",
     "output_type": "stream",
     "text": [
      "Loaded model from disk\n"
     ]
    }
   ],
   "source": [
    "#Loading the model along with the weights file that was created by training\n",
    "model = loadModel(modelFileName, weightFileName)"
   ]
  },
  {
   "cell_type": "code",
   "execution_count": 11,
   "metadata": {},
   "outputs": [
    {
     "name": "stderr",
     "output_type": "stream",
     "text": [
      "C:\\Users\\Prem Thomas Eapen\\AppData\\Roaming\\Python\\Python36\\site-packages\\skimage\\transform\\_warps.py:84: UserWarning: The default mode, 'constant', will be changed to 'reflect' in skimage 0.15.\n",
      "  warn(\"The default mode, 'constant', will be changed to 'reflect' in \"\n"
     ]
    },
    {
     "name": "stdout",
     "output_type": "stream",
     "text": [
      "\n",
      "Image file name: Flickr27//TestImages//161270014-Apple.jpg\n",
      "Apple: 0.021079872\n",
      "Fedex: 0.9789201\n",
      "Google: 2.4327347e-13\n",
      "\n",
      "Image file name: Flickr27//TestImages//2276226904-Fedex.jpg\n",
      "Apple: 4.3142344e-11\n",
      "Fedex: 1.0\n",
      "Google: 1.1230742e-15\n",
      "\n",
      "Image file name: Flickr27//TestImages//2286135438-Fedex.jpg\n",
      "Apple: 0.00016154717\n",
      "Fedex: 0.9998374\n",
      "Google: 1.0415865e-06\n",
      "\n",
      "Image file name: Flickr27//TestImages//2550417833-Google.jpg\n",
      "Apple: 0.00012949664\n",
      "Fedex: 0.0006760823\n",
      "Google: 0.99919444\n",
      "\n",
      "Image file name: Flickr27//TestImages//2758671363-Google.jpg\n",
      "Apple: 2.2320405e-10\n",
      "Fedex: 9.617343e-09\n",
      "Google: 1.0\n",
      "\n",
      "Image file name: Flickr27//TestImages//2770852623-Google.jpg\n",
      "Apple: 3.3422782e-09\n",
      "Fedex: 9.68908e-08\n",
      "Google: 0.9999999\n",
      "\n",
      "Image file name: Flickr27//TestImages//2777979648-Google.jpg\n",
      "Apple: 2.981311e-07\n",
      "Fedex: 2.054687e-06\n",
      "Google: 0.9999976\n",
      "\n",
      "Image file name: Flickr27//TestImages//3276332721-Apple.jpg\n",
      "Apple: 0.003114011\n",
      "Fedex: 0.9964551\n",
      "Google: 0.000430981\n",
      "\n",
      "Image file name: Flickr27//TestImages//3579847658-Google.jpg\n",
      "Apple: 1.2662077e-05\n",
      "Fedex: 0.00020543106\n",
      "Google: 0.9997819\n",
      "\n",
      "Image file name: Flickr27//TestImages//3842830049-Apple.jpg\n",
      "Apple: 1.0\n",
      "Fedex: 2.2368507e-15\n",
      "Google: 1.9119364e-16\n",
      "\n",
      "Image file name: Flickr27//TestImages//3907703753-Fedex.jpg\n",
      "Apple: 0.004690262\n",
      "Fedex: 0.9951924\n",
      "Google: 0.00011736087\n",
      "\n",
      "Image file name: Flickr27//TestImages//4057075142-Fedex.jpg\n",
      "Apple: 0.00016163499\n",
      "Fedex: 0.9998373\n",
      "Google: 1.047096e-06\n",
      "\n",
      "Image file name: Flickr27//TestImages//4159635668-Fedex.jpg\n",
      "Apple: 6.669485e-07\n",
      "Fedex: 0.9999975\n",
      "Google: 1.7649276e-06\n",
      "\n",
      "Image file name: Flickr27//TestImages//4748791597-Apple.jpg\n",
      "Apple: 1.0\n",
      "Fedex: 3.6350635e-15\n",
      "Google: 3.553709e-19\n",
      "\n",
      "Image file name: Flickr27//TestImages//51409302-Apple.jpg\n",
      "Apple: 1.0\n",
      "Fedex: 1.8293467e-21\n",
      "Google: 1.8270462e-20\n",
      "\n",
      "Apple: 3/5\n",
      "Fedex: 5/5\n",
      "Google: 5/5\n"
     ]
    }
   ],
   "source": [
    "#Initializing the counters\n",
    "acn0 = 0;\n",
    "acn1 = 0;\n",
    "acn2 = 0;\n",
    "acn3 = 0;\n",
    "acn4 = 0;\n",
    "tcn0 = 0;\n",
    "tcn1 = 0;\n",
    "tcn2 = 0;\n",
    "tcn3 = 0;\n",
    "tcn4 = 0;\n",
    "\n",
    "#Loop through all the files in the folder and predict.\n",
    "for filename in os.listdir(testImageFolder):\n",
    "    tcn0,acn0,tcn1,acn1,tcn2,acn2,tcn3,acn3,tcn4,acn4 = predictGrey(testImageFolder + '//' + filename,tcn0,acn0,tcn1,acn1,tcn2,acn2,tcn3,acn3,tcn4,acn4)\n",
    "    \n",
    "#Print the total correct predictions for each class.\n",
    "print('\\n'+class_names[0] +': ' + str(tcn0) + '/' + str(acn0));\n",
    "print(class_names[1] +': ' + str(tcn1) + '/' + str(acn1));\n",
    "print(class_names[2] +': ' + str(tcn2) + '/' + str(acn2));"
   ]
  },
  {
   "cell_type": "code",
   "execution_count": null,
   "metadata": {},
   "outputs": [],
   "source": []
  },
  {
   "cell_type": "code",
   "execution_count": null,
   "metadata": {},
   "outputs": [],
   "source": []
  }
 ],
 "metadata": {
  "kernelspec": {
   "display_name": "Python 3",
   "language": "python",
   "name": "python3"
  },
  "language_info": {
   "codemirror_mode": {
    "name": "ipython",
    "version": 3
   },
   "file_extension": ".py",
   "mimetype": "text/x-python",
   "name": "python",
   "nbconvert_exporter": "python",
   "pygments_lexer": "ipython3",
   "version": "3.6.3"
  }
 },
 "nbformat": 4,
 "nbformat_minor": 2
}
